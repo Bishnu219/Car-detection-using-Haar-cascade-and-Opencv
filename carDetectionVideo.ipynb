{
 "cells": [
  {
   "cell_type": "code",
   "execution_count": 1,
   "id": "de5fd8c5",
   "metadata": {},
   "outputs": [],
   "source": [
    "import cv2\n",
    "car_cascade= cv2.CascadeClassifier('cars.xml')"
   ]
  },
  {
   "cell_type": "code",
   "execution_count": 3,
   "id": "797e8f50",
   "metadata": {},
   "outputs": [],
   "source": [
    "def detect(gray, frame):\n",
    "    cars = car_cascade.detectMultiScale(gray, 1.3, 5)\n",
    "    count = len(cars)\n",
    "    \n",
    "    for (x, y, w, h) in cars: # For each detected face:\n",
    "        cv2.rectangle(frame, (x, y), (x+w, y+h), (255, 0, 0), 2)\n",
    "       \n",
    "        cv2.putText(frame,\"total cars on frame:{}\".format(count),(10,20),cv2.FONT_HERSHEY_SIMPLEX,1,(0,0,255),2)\n",
    "        \n",
    "            \n",
    "        \n",
    "    return frame\n",
    "    "
   ]
  },
  {
   "cell_type": "code",
   "execution_count": 5,
   "id": "7fb238e6",
   "metadata": {},
   "outputs": [],
   "source": [
    "video_capture = cv2.VideoCapture('Cars Moving On Road Stock Footage - Free Download.mp4') # We turn the webcam on.\n",
    "while True:\n",
    "    ret, frame = video_capture.read() # We get the last frame.\n",
    "#     print(frame)\n",
    "    gray = cv2.cvtColor(frame, cv2.COLOR_BGR2GRAY)\n",
    "    canvas = detect(gray, frame) \n",
    "    cv2.imshow('Video', canvas)\n",
    "    \n",
    "    if cv2.waitKey(1) & 0xFF == ord('e'):\n",
    "        break # We stop the loop.\n",
    "video_capture.release() \n",
    "cv2.destroyAllWindows()"
   ]
  },
  {
   "cell_type": "code",
   "execution_count": null,
   "id": "2a9e0520",
   "metadata": {},
   "outputs": [],
   "source": []
  }
 ],
 "metadata": {
  "kernelspec": {
   "display_name": "Python 3 (ipykernel)",
   "language": "python",
   "name": "python3"
  },
  "language_info": {
   "codemirror_mode": {
    "name": "ipython",
    "version": 3
   },
   "file_extension": ".py",
   "mimetype": "text/x-python",
   "name": "python",
   "nbconvert_exporter": "python",
   "pygments_lexer": "ipython3",
   "version": "3.8.10"
  }
 },
 "nbformat": 4,
 "nbformat_minor": 5
}
